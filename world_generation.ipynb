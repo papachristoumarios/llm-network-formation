{
 "cells": [
  {
   "cell_type": "code",
   "execution_count": 2,
   "metadata": {},
   "outputs": [],
   "source": [
    "import openai\n",
    "import json\n",
    "import pprint\n",
    "\n",
    "with open('params.json') as f:\n",
    "    params = json.load(f)\n",
    "\n",
    "openai.api_key = params['OPENAI_API_KEY']\n",
    "openai.organization = params['OPENAI_ORG']\n",
    "\n",
    "def get_response(prompt, model='gpt-3.5-turbo'):\n",
    "    result = openai.ChatCompletion.create(\n",
    "    model=model,\n",
    "    messages=[\n",
    "            {\"role\": \"system\", \"content\": \"You are a helpful assistant.\"},\n",
    "            {\"role\": \"user\", \"content\": prompt},\n",
    "    ])\n",
    "\n",
    "    return result.choices[0]['message']['content']"
   ]
  },
  {
   "cell_type": "markdown",
   "metadata": {},
   "source": [
    "### Locations\n",
    "\n",
    "1. University Classes\n",
    "2. Mr Hi's karate studio\n",
    "3. University Rathskeller\n",
    "4. Bar\n",
    "5. Open Karate Tournaments (held at the private karate studios)\n",
    "6. Intercollegiate Karate Tournament (held at local universities)\n",
    "\n",
    "Locations 5 and 6 are mutually exclusive\n",
    "\n",
    "### Network Formation\n",
    "\n",
    "Edge creation process:\n",
    "1.  Association in and between academic classes at the university.\n",
    "2. Membership in Mr. Hi's private karate studio on the east sid the city where Mr. Hi taught nights as a part-time instructor.\n",
    "3. Membership in Mr. Hi's private karate studio on the east sid the city, where many of his supporters worked out on weekends.\n",
    "4. Student teaching at the east-side karate studio referred to in This is different from (2) in that student teachers interacted with other, but were prohibited from interacting with their students.\n",
    "5. Interaction at the university rathskeller, located in the s basement as the karate club's workout area.\n",
    "6. Interaction at a student-oriented bar located across the street from the university campus.\n",
    "7. Attendance at open karate tournaments held through the area at private karate studios.\n",
    "8. Attendance at intercollegiate karate tournaments held at local universities. Since both open and intercollegiate tournaments were held on Saturdays, attendance at both was impossible.\n",
    "\n"
   ]
  },
  {
   "cell_type": "code",
   "execution_count": 19,
   "metadata": {},
   "outputs": [],
   "source": [
    "# TODO:\n",
    "# 1. Generate a list of students without prompt, examine the network structure. (GPTTeam generates a database.)\n",
    "# Network sturcture: clusters, power law, ties spanning two different classes\n",
    "\n",
    "\n",
    "def generate_karate_club_locations(num_classes=3):\n",
    "\n",
    "    locations_prompt = f\"\"\"\n",
    "    # Task \n",
    "    You are an AI assistant and your task is to generate a short description of some locations regarding a university. \n",
    "    The locations are the following: \n",
    "    * {num_classes} academic classes at the university. The classes can be from a diverse set of subjects, such as math, physics, chemistry, biology, computer science, psychology, law, journalism, policital scienceetc.\n",
    "    * A karate studio belonging to Mr. Hi.\n",
    "    * A bar located accross the street from the university campus.\n",
    "    * A university rathskeller.\n",
    "    * A dojo for holding open karate tournaments through the area at private karate studios.\n",
    "    * A dojo for intercollegiate karate tournaments belonging to the university.\n",
    "\n",
    "\n",
    "    # Output\n",
    "    You must format your output as a list of JSON objects with the following fields:\n",
    "\n",
    "    [\n",
    "        {{\n",
    "            \"name\" : name of location,\n",
    "            \"description\" : description of location,\n",
    "        }},\n",
    "        ...\n",
    "    ]\n",
    "\n",
    "    ## Notes\n",
    "    * You must output JSON objects for each location.\n",
    "    \"\"\"\n",
    "\n",
    "    response = get_response(locations_prompt)\n",
    "\n",
    "    with open('outputs/locations.json', 'w+') as f:\n",
    "        json.dump(response, f, indent=4)\n",
    "\n",
    "    return json.loads(response)\n",
    "\n",
    "locations = generate_karate_club_locations()"
   ]
  },
  {
   "cell_type": "code",
   "execution_count": null,
   "metadata": {},
   "outputs": [],
   "source": [
    "\n",
    "# Person generation prompt\n",
    "prompt = f\"\"\"can you randomly generate prompt to describe a person? All of the following dimensions should be covered:\n",
    "\n",
    "*   Basic Information: Name, age, gender, nationality, ethnicity, language(s), education, occupation, etc.\n",
    "*   Personality Traits: Introverted or extroverted, open or closed, conscientious or spontaneous, agreeable or contentious, neurotic or calm, etc.\n",
    "*   Values and Beliefs: Political beliefs, religious beliefs, ethical values, philosophies of life, priorities, etc.\n",
    "*   Interests and Hobbies: Favorite activities, pastimes, sports, arts, travel destinations, books, movies, food, etc.\n",
    "*   Skills and Abilities: Technical skills, soft skills, athletic abilities, artistic talents, intellectual strengths, etc.\n",
    "*   Social Relationships: Family background, relationship status, friendships, professional relationships, social networks, etc.\n",
    "*   Emotional Quirks: Anger triggers, happiness sources, fears, stressors, coping mechanisms, emotional responses, etc.\n",
    "*   Ambitions and Goals: Career aspirations, personal development goals, financial goals, life milestones, etc.\n",
    "*   Health Status: Physical health, mental health, chronic conditions, allergies, habits related to health (like diet, exercise, sleep, substance use), etc.\n",
    "*   Experiences: Travel experiences, work experiences, traumatic experiences, transformative experiences, memorable events, etc.\n",
    "*   Cognitive Style: Decision making process, problem-solving abilities, critical thinking skills, creative thinking, learning style, etc.\n",
    "*   Communication Style: Verbosity, assertiveness, listening skills, body language, preferred communication channels, etc.\n",
    "*   Lifestyle: Living conditions, financial situation, work-life balance, daily routines, etc.\n",
    "*   Sense of Humor: Type of humor enjoyed, propensity to laugh, use of humor in communication, etc.\n",
    "*   Preferences: Favorite colors, music, movies, books, food, fashion style, etc.\n",
    "*   Cultural Background: Customs, traditions, festivals, language, etiquette, etc. from their cultural upbringing.\n",
    "*   Life Stage: Are they a student, working, retired, a parent, a grandparent, etc.?\n",
    "*   Attitude towards Technology: Tech-savvy or not, preferred devices and platforms, privacy considerations, etc.\n",
    "*   Self-Perception and Identity: How they see themselves, their personal identity, their confidence, self-esteem, etc.\n",
    "\"\"\"\n",
    "\n"
   ]
  },
  {
   "cell_type": "code",
   "execution_count": 4,
   "metadata": {},
   "outputs": [
    {
     "name": "stdout",
     "output_type": "stream",
     "text": [
      "[{'a': 'b'}, {'c': 'd'}]\n"
     ]
    }
   ],
   "source": [
    "x = [{\"a\" : \"b\"}, {\"c\" : \"d\"}]\n",
    "\n",
    "print(json.loads(json.dumps(x)))"
   ]
  },
  {
   "cell_type": "code",
   "execution_count": null,
   "metadata": {},
   "outputs": [],
   "source": []
  }
 ],
 "metadata": {
  "kernelspec": {
   "display_name": "base",
   "language": "python",
   "name": "python3"
  },
  "language_info": {
   "codemirror_mode": {
    "name": "ipython",
    "version": 3
   },
   "file_extension": ".py",
   "mimetype": "text/x-python",
   "name": "python",
   "nbconvert_exporter": "python",
   "pygments_lexer": "ipython3",
   "version": "3.9.12"
  },
  "orig_nbformat": 4
 },
 "nbformat": 4,
 "nbformat_minor": 2
}
